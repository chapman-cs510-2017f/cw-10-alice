{
 "cells": [
  {
   "cell_type": "code",
   "execution_count": 3,
   "metadata": {
    "collapsed": false
   },
   "outputs": [
    {
     "name": "stdout",
     "output_type": "stream",
     "text": [
      "array[0]=0.000000\n",
      "array[1]=1.000000\n",
      "array[2]=2.000000\n",
      "array[3]=3.000000\n",
      "array[4]=4.000000\n",
      "array[5]=5.000000\n",
      "array[6]=6.000000\n",
      "array[7]=7.000000\n",
      "array[8]=8.000000\n",
      "array[9]=9.000000\n"
     ]
    }
   ],
   "source": [
    "%%bash\n",
    "\n",
    "./src/arrays/arrays"
   ]
  },
  {
   "cell_type": "markdown",
   "metadata": {
    "collapsed": false
   },
   "source": [
    "# What Arrays Does\n",
    "Create a iteration index\n",
    "Defines an array of 10 ints\n",
    "Creates an array of pre-defined size\n",
    "Creates a pointer to an int, and allocates space for the number of ints in the array\n",
    "\n",
    "Checks if the pointer points to a valid memory location. If not, return fail (-1).\n",
    "If pointer points to a valid memory location\n",
    "\n",
    "Create a pointer point to a constant character array called foo\n",
    "the 1st for loop then runs through the array and assigns each element in the array to the ith iteration through the array\n",
    "\n",
    "The 2nd for loop does the same thing but through through 3 elements past the allocated memory space (causing buffer overrun) and prints whatever was in the memory location at the time for the overrun elements. It also does the same thing for the constant character array 'foo bar'\n"
   ]
  },
  {
   "cell_type": "markdown",
   "metadata": {
    "collapsed": false
   },
   "source": [
    "#  Malloc and Free \n",
    "\n",
    "malloc()\tAllocates requested size of bytes and returns a pointer first byte of allocated space\n",
    "free()\tdeallocate the previously allocated space"
   ]
  }
 ],
 "metadata": {
  "kernelspec": {
   "display_name": "Python 3 (Ubuntu Linux)",
   "language": "python",
   "name": "python3"
  },
  "language_info": {
   "codemirror_mode": {
    "name": "ipython",
    "version": 3
   },
   "file_extension": ".py",
   "mimetype": "text/x-python",
   "name": "python",
   "nbconvert_exporter": "python",
   "pygments_lexer": "ipython3",
   "version": "3.5.2"
  }
 },
 "nbformat": 4,
 "nbformat_minor": 0
}