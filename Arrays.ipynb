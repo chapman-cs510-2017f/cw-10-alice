{
 "cells": [
  {
   "cell_type": "code",
   "execution_count": 21,
   "metadata": {
    "collapsed": false
   },
   "outputs": [
    {
     "name": "stdout",
     "output_type": "stream",
     "text": [
      "array[0] : 0.000000\t*(memblock + 0) : 0\tfoo[0] : F\t*(foo + 0) : F\n",
      "array[1] : 1.000000\t*(memblock + 1) : 1\tfoo[1] : o\t*(foo + 1) : o\n",
      "array[2] : 2.000000\t*(memblock + 2) : 2\tfoo[2] : o\t*(foo + 2) : o\n",
      "array[3] : 3.000000\t*(memblock + 3) : 3\tfoo[3] :  \t*(foo + 3) :  \n",
      "array[4] : 4.000000\t*(memblock + 4) : 4\tfoo[4] : b\t*(foo + 4) : b\n",
      "array[5] : 5.000000\t*(memblock + 5) : 5\tfoo[5] : a\t*(foo + 5) : a\n",
      "array[6] : 6.000000\t*(memblock + 6) : 6\tfoo[6] : r\t*(foo + 6) : r\n",
      "array[7] : 7.000000\t*(memblock + 7) : 7\tfoo[7] :  \t*(foo + 7) :  \n",
      "array[8] : 8.000000\t*(memblock + 8) : 8\tfoo[8] : .\t*(foo + 8) : .\n",
      "array[9] : 9.000000\t*(memblock + 9) : 9\tfoo[9] : \u0000\t*(foo + 9) : \u0000\n",
      "array[10] : 0.000000\t*(memblock + 10) : NAN\tfoo[10] : m\t*(foo + 10) : m\n",
      "array[11] : -0.000000\t*(memblock + 11) : NAN\tfoo[11] : a\t*(foo + 11) : a\n",
      "array[12] : 0.000000\t*(memblock + 12) : NAN\tfoo[12] : l\t*(foo + 12) : l\n"
     ]
    }
   ],
   "source": [
    "%%bash\n",
    "\n",
    "./src/arrays/arrays"
   ]
  },
  {
   "cell_type": "code",
   "execution_count": 12,
   "metadata": {
    "collapsed": false
   },
   "outputs": [
    {
     "ename": "SyntaxError",
     "evalue": "invalid syntax (<ipython-input-12-dcc7a6c3e38a>, line 1)",
     "output_type": "error",
     "traceback": [
      "\u001b[0;36m  File \u001b[0;32m\"<ipython-input-12-dcc7a6c3e38a>\"\u001b[0;36m, line \u001b[0;32m1\u001b[0m\n\u001b[0;31m    What arrays does:\u001b[0m\n\u001b[0m              ^\u001b[0m\n\u001b[0;31mSyntaxError\u001b[0m\u001b[0;31m:\u001b[0m invalid syntax\n"
     ]
    }
   ],
   "source": [
    "What arrays does:\n",
    "Create a iteration index\n",
    "Defines an array of 10 ints\n",
    "Creates an array of pre-defined size\n",
    "Creates a pointer to an int, and allocates space for the number of ints in the array\n",
    "\n",
    "Checks if the pointer points to a valid memory location. If not, return fail (-1).\n",
    "If pointer points to a valid memory location\n",
    "\n",
    "Create a pointer point to a constant character array called foo\n",
    "the 1st for loop then runs through the array and assigns each element in the array to the ith iteration through the array\n",
    "\n",
    "The 2nd for loop does the same thing but through through 3 elements past the allocated memory space (causing buffer overrun) and prints whatever was in the memory location at the time for the overrun elements. It also does the same thing for the constant character array 'foo bar'\n"
   ]
  },
  {
   "cell_type": "code",
   "execution_count": 0,
   "metadata": {
    "collapsed": false
   },
   "outputs": [
   ],
   "source": [
   ]
  }
 ],
 "metadata": {
  "kernelspec": {
   "display_name": "Python 3 (Ubuntu Linux)",
   "language": "python",
   "name": "python3"
  },
  "language_info": {
   "codemirror_mode": {
    "name": "ipython",
    "version": 3
   },
   "file_extension": ".py",
   "mimetype": "text/x-python",
   "name": "python",
   "nbconvert_exporter": "python",
   "pygments_lexer": "ipython3",
   "version": "3.5.2"
  }
 },
 "nbformat": 4,
 "nbformat_minor": 0
}