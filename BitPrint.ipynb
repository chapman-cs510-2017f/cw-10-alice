{
 "cells": [
  {
   "cell_type": "markdown",
   "metadata": {
    "collapsed": false
   },
   "source": [
    "print_types prints out the variable, the type of the variable, the number of bits of the variable, binary representation of the variable."
   ]
  },
  {
   "cell_type": "code",
   "execution_count": 13,
   "metadata": {
    "collapsed": false
   },
   "outputs": [
    {
     "name": "stdout",
     "output_type": "stream",
     "text": [
      "Using unsigned integer: 48\n",
      "\n",
      "Character (1 bytes, 8 bits):\n",
      "   0 : 00110000\n",
      "Unsigned character (1 bytes, 8 bits):\n",
      "   48 : 00110000\n",
      "Short Integer (2 bytes, 16 bits):\n",
      "   48 : 0000000000110000\n",
      "Integer (4 bytes, 32 bits):\n",
      "   48 : 00000000000000000000000000110000\n",
      "Long Integer (8 bytes, 64 bits):\n",
      "   48 : 0000000000000000000000000000000000000000000000000000000000110000\n",
      "Unsigned Integer (4 bytes, 32 bits):\n",
      "   48 : 00000000000000000000000000110000\n",
      "Unsigned Long Integer (8 bytes, 64 bits):\n",
      "   48 : 0000000000000000000000000000000000000000000000000000000000110000\n",
      "Unsigned Long Long Integer (8 bytes, 64 bits):\n",
      "   48 : 0000000000000000000000000000000000000000000000000000000000110000\n",
      "Float (4 bytes, 32 bits):\n",
      "   48.000000 : 01000010010000000000000000000000\n",
      "Double (8 bytes, 64 bits):\n",
      "   48.000000 : 0100000001001000000000000000000000000000000000000000000000000000\n",
      "Long Double (16 bytes, 128 bits):\n",
      "   48.000000 : 00000000000000000000000000000000000000000000000001000000000001001100000000000000000000000000000000000000000000000000000000000000\n"
     ]
    }
   ],
   "source": [
    "%%bash\n",
    "./src/bit_print/print_types 48\n"
   ]
  },
  {
   "cell_type": "markdown",
   "metadata": {
    "collapsed": false
   },
   "source": [
    "3\n",
    "\n",
    "<li>The integer values for 'A' is 65, 'Z' is 90, 'a' is 97, 'z' is 122\n",
    "<li>The integer values of '0' is 48, '1' 49, '9' is 57\n",
    "<li> 2d array of shorts in bytes: 4 x 10^8 bytes 400,000,000 is 400mb\n",
    "<li> 2d array of long doubles in in bytes: 32 x 10^8 bytes is 3200mb\n",
    "<li> The algorithm for an unsigned int is, compute 1's complement (flip all the bits in the unsigned binary representation of the number), and then add 1 to the number\n",
    "    \n",
    "<li>The algorithm for a signed int is, start with all 1's, \n",
    "    The min and max bound for an signed int is $-2^{n-1}$ to $2^{n-1}-1$\n",
    "    the min and max for unsigned int is 0 to $2^{n-1}$"
   ]
  },
  {
   "cell_type": "code",
   "execution_count": 11,
   "metadata": {
    "collapsed": false
   },
   "outputs": [
    {
     "name": "stdout",
     "output_type": "stream",
     "text": [
      "array[0] : 0\t*(memblock + 0) : 0\tfoo[0] : F\t*(foo + 0) : F\n",
      "array[1] : 1\t*(memblock + 1) : 1\tfoo[1] : o\t*(foo + 1) : o\n",
      "array[2] : 2\t*(memblock + 2) : 2\tfoo[2] : o\t*(foo + 2) : o\n",
      "array[3] : 3\t*(memblock + 3) : 3\tfoo[3] :  \t*(foo + 3) :  \n",
      "array[4] : 4\t*(memblock + 4) : 4\tfoo[4] : b\t*(foo + 4) : b\n",
      "array[5] : 5\t*(memblock + 5) : 5\tfoo[5] : a\t*(foo + 5) : a\n",
      "array[6] : 6\t*(memblock + 6) : 6\tfoo[6] : r\t*(foo + 6) : r\n",
      "array[7] : 7\t*(memblock + 7) : 7\tfoo[7] :  \t*(foo + 7) :  \n",
      "array[8] : 8\t*(memblock + 8) : 8\tfoo[8] : .\t*(foo + 8) : .\n",
      "array[9] : 9\t*(memblock + 9) : 9\tfoo[9] : \u0000\t*(foo + 9) : \u0000\n",
      "array[10] : 970129664\t*(memblock + 10) : 4113\tfoo[10] : m\t*(foo + 10) : m\n",
      "array[11] : 1501542367\t*(memblock + 11) : 0\tfoo[11] : a\t*(foo + 11) : a\n",
      "array[12] : 0\t*(memblock + 12) : 1634890337\tfoo[12] : l\t*(foo + 12) : l\n"
     ]
    }
   ],
   "source": [
    "%%bash\n",
    "\n",
    "./src/arrays/arrays"
   ]
  },
  {
   "cell_type": "markdown",
   "metadata": {
    "collapsed": false
   },
   "source": [
    "What arrays does:\n",
    "create a iteration index\n",
    "defines an array of 10 ints\n",
    "creates an array of pre-defined size\n",
    "creates a pointer to an int, and allocates space for the number of ints in the array\n",
    "\n",
    "-checks if the pointer points to a valid memory location. If not, return fail (-1).\n",
    "-if pointer points to a valid memory location\n",
    "    "
   ]
  },
  {
   "cell_type": "code",
   "execution_count": 0,
   "metadata": {
    "collapsed": false
   },
   "outputs": [
   ],
   "source": [
   ]
  }
 ],
 "metadata": {
  "kernelspec": {
   "display_name": "Python 3 (Ubuntu Linux)",
   "language": "python",
   "name": "python3"
  },
  "language_info": {
   "codemirror_mode": {
    "name": "ipython",
    "version": 3
   },
   "file_extension": ".py",
   "mimetype": "text/x-python",
   "name": "python",
   "nbconvert_exporter": "python",
   "pygments_lexer": "ipython3",
   "version": "3.5.2"
  }
 },
 "nbformat": 4,
 "nbformat_minor": 0
}