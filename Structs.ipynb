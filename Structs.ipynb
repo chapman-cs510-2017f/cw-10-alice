{
 "cells": [
  {
   "cell_type": "markdown",
   "metadata": {
    "collapsed": false
   },
   "source": [
    "# Print_structs\n",
    "\n",
    "Print_structs creates a 3D vector, v, whose x, y, and z componenets are all [0.0, 0.0, 0.0]. It then uses the modifyVec3 function to modify the x componenet. This function passes \"by value\", meaning a copy of v is made and the x componenent in the copy of v is modified to 15.0. As you can see in what was printed for 3Vector, the original 3D vector is made and printed. Then, the original is printed again after the modification occurs, showing that no modifications have actually been made on the original. Then a copy of the 3D vector is made, and the x componenet in the copy is changed to 15.\n",
    "It also creates a 2D vector, w, whose x and y componenets are [0.0, 0.0]. It then uses the setVec2 function to modify the x and y componenets. This function passes \"by reference\", meaning the original w vector is modified in memory. As you can see in what was printed for 2Vector, the original 2D vector is made and printed. Then, the modification is made, and the original is printed again, showing the x componenet changed to 1 and the y componenet changed to 2.\n",
    "\n",
    "The command v.x changes the x componenet of the copy of structure v, and v -> x changes the x componenent of the structure v directly in memory.\n"
   ]
  },
  {
   "cell_type": "code",
   "execution_count": 2,
   "metadata": {
    "collapsed": false
   },
   "outputs": [
    {
     "name": "stdout",
     "output_type": "stream",
     "text": [
      "-----Pass by value test-----\n",
      "Original 3 vector:\n",
      "3Vector : [0.000000, 0.000000, 0.000000]\n",
      "Original 3 vector after modification:\n",
      "3Vector : [0.000000, 0.000000, 0.000000]\n",
      "New 3 vector after modification:\n",
      "3Vector : [15.000000, 0.000000, 0.000000]\n",
      "-----Pass by reference test-----\n",
      "Original 2 vector:\n",
      "2Vector : [0.000000, 0.000000]\n",
      "Original 2 vector after modification:\n",
      "2Vector : [1.000000, 2.000000]\n"
     ]
    }
   ],
   "source": [
    "%%bash\n",
    "\n",
    "./src/structs/print_structs"
   ]
  }
 ],
 "metadata": {
  "kernelspec": {
   "display_name": "Python 3 (Ubuntu Linux)",
   "language": "python",
   "name": "python3"
  },
  "language_info": {
   "codemirror_mode": {
    "name": "ipython",
    "version": 3
   },
   "file_extension": ".py",
   "mimetype": "text/x-python",
   "name": "python",
   "nbconvert_exporter": "python",
   "pygments_lexer": "ipython3",
   "version": "3.5.2"
  }
 },
 "nbformat": 4,
 "nbformat_minor": 0
}